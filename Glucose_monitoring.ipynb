{
 "cells": [
  {
   "cell_type": "code",
   "execution_count": 5,
   "metadata": {
    "colab": {},
    "colab_type": "code",
    "id": "algA1jRLrUDI"
   },
   "outputs": [],
   "source": [
    "import numpy as np\n",
    "import pandas as pd"
   ]
  },
  {
   "cell_type": "markdown",
   "metadata": {},
   "source": [
    "# Playing with the Smaller Dataset\n",
    "## Loading data into pandas DFs"
   ]
  },
  {
   "cell_type": "code",
   "execution_count": 6,
   "metadata": {},
   "outputs": [],
   "source": [
    "cell_features = ['time', 'poc_glucose', 'insulin']\n",
    "\n",
    "pt118 = pd.read_excel('Burn_Glucose_Data.xlsx', sheet_name = '118', header = 1, names = cell_features)\n",
    "pt185 = pd.read_excel('Burn_Glucose_Data.xlsx', sheet_name = '185', header = 1, names = cell_features)\n",
    "pt199 = pd.read_excel('Burn_Glucose_Data.xlsx', sheet_name = '199', header = 1, names = cell_features)\n",
    "pt205 = pd.read_excel('Burn_Glucose_Data.xlsx', sheet_name = '205', header = 1, names = cell_features)\n",
    "pt232 = pd.read_excel('Burn_Glucose_Data.xlsx', sheet_name = '232', header = 1, names = cell_features)\n",
    "pt240 = pd.read_excel('Burn_Glucose_Data.xlsx', sheet_name = '240', header = 1, names = cell_features)"
   ]
  },
  {
   "cell_type": "markdown",
   "metadata": {},
   "source": [
    "## Defining a function to remove 'None' and NaN values from DFs"
   ]
  },
  {
   "cell_type": "code",
   "execution_count": 17,
   "metadata": {},
   "outputs": [],
   "source": [
    "def drop_NaN(dataFrame):\n",
    "    dataFrame = dataFrame.replace('None', np.NaN)\n",
    "    dataFrame = dataFrame.dropna()\n",
    "    dataFrame = dataFrame.reset_index(drop = True)\n",
    "    return dataFrame"
   ]
  },
  {
   "cell_type": "markdown",
   "metadata": {},
   "source": [
    "## Update all DFs"
   ]
  },
  {
   "cell_type": "code",
   "execution_count": 18,
   "metadata": {},
   "outputs": [],
   "source": [
    "pt118 = drop_NaN(pt118)\n",
    "pt185 = drop_NaN(pt185)\n",
    "pt199 = drop_NaN(pt199)\n",
    "pt205 = drop_NaN(pt205)\n",
    "pt232 = drop_NaN(pt232)\n",
    "pt240 = drop_NaN(pt240)"
   ]
  },
  {
   "cell_type": "code",
   "execution_count": null,
   "metadata": {},
   "outputs": [],
   "source": []
  }
 ],
 "metadata": {
  "colab": {
   "name": "Glucose_monitoring.ipynb",
   "provenance": []
  },
  "kernelspec": {
   "display_name": "Python 3",
   "language": "python",
   "name": "python3"
  },
  "language_info": {
   "codemirror_mode": {
    "name": "ipython",
    "version": 3
   },
   "file_extension": ".py",
   "mimetype": "text/x-python",
   "name": "python",
   "nbconvert_exporter": "python",
   "pygments_lexer": "ipython3",
   "version": "3.7.3"
  }
 },
 "nbformat": 4,
 "nbformat_minor": 1
}
