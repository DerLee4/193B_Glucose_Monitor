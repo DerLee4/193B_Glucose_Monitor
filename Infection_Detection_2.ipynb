{
  "nbformat": 4,
  "nbformat_minor": 0,
  "metadata": {
    "colab": {
      "name": "Infection_Detection_2.ipynb",
      "provenance": [],
      "collapsed_sections": [
        "p4JBCoaARlth"
      ],
      "machine_shape": "hm",
      "mount_file_id": "1fVZKc9C4FykUPjqTtt2lDlt_M0Km5RVd",
      "authorship_tag": "ABX9TyOEUgUeaDzQm2hhA0T9xaJi",
      "include_colab_link": true
    },
    "kernelspec": {
      "name": "python3",
      "display_name": "Python 3"
    },
    "accelerator": "GPU"
  },
  "cells": [
    {
      "cell_type": "markdown",
      "metadata": {
        "id": "view-in-github",
        "colab_type": "text"
      },
      "source": [
        "<a href=\"https://colab.research.google.com/github/oliverZZ/193B_Glucose_Monitor/blob/master/Infection_Detection_2.ipynb\" target=\"_parent\"><img src=\"https://colab.research.google.com/assets/colab-badge.svg\" alt=\"Open In Colab\"/></a>"
      ]
    },
    {
      "cell_type": "code",
      "metadata": {
        "id": "_u9U5GsRKKnO",
        "colab_type": "code",
        "colab": {}
      },
      "source": [
        "%matplotlib inline\n",
        "import warnings\n",
        "warnings.simplefilter('ignore')\n",
        "import pandas as pd\n",
        "pd.options.display.max_rows = 20\n",
        "import matplotlib.pyplot as plt\n",
        "import numpy as np\n",
        "\n",
        "bg = pd.read_excel('/content/drive/My Drive/EEC 193/EEC 193B/Burn_Glucose_022020.xlsx', skiprows = 0)"
      ],
      "execution_count": 0,
      "outputs": []
    },
    {
      "cell_type": "code",
      "metadata": {
        "id": "EXcQ0KMM_hzw",
        "colab_type": "code",
        "outputId": "2ac5b0aa-a3d1-4daa-d492-34430c42c68b",
        "colab": {
          "base_uri": "https://localhost:8080/",
          "height": 625
        }
      },
      "source": [
        "bg"
      ],
      "execution_count": 2,
      "outputs": [
        {
          "output_type": "execute_result",
          "data": {
            "text/html": [
              "<div>\n",
              "<style scoped>\n",
              "    .dataframe tbody tr th:only-of-type {\n",
              "        vertical-align: middle;\n",
              "    }\n",
              "\n",
              "    .dataframe tbody tr th {\n",
              "        vertical-align: top;\n",
              "    }\n",
              "\n",
              "    .dataframe thead th {\n",
              "        text-align: right;\n",
              "    }\n",
              "</style>\n",
              "<table border=\"1\" class=\"dataframe\">\n",
              "  <thead>\n",
              "    <tr style=\"text-align: right;\">\n",
              "      <th></th>\n",
              "      <th>PER_CODE</th>\n",
              "      <th>Collection Date</th>\n",
              "      <th>Time Vitals</th>\n",
              "      <th>Systolic</th>\n",
              "      <th>Diastolic</th>\n",
              "      <th>MAP</th>\n",
              "      <th>HR</th>\n",
              "      <th>RR</th>\n",
              "      <th>Temp</th>\n",
              "      <th>CVP</th>\n",
              "      <th>GCS</th>\n",
              "      <th>Vent</th>\n",
              "      <th>Time_CBC</th>\n",
              "      <th>WBC</th>\n",
              "      <th>Hgb</th>\n",
              "      <th>Hct</th>\n",
              "      <th>Platelet</th>\n",
              "      <th>Time Labs</th>\n",
              "      <th>Na</th>\n",
              "      <th>K_pos</th>\n",
              "      <th>BUN</th>\n",
              "      <th>Creatnine</th>\n",
              "      <th>Glucose</th>\n",
              "      <th>Tbili</th>\n",
              "      <th>Chloride</th>\n",
              "      <th>V_CO2</th>\n",
              "      <th>PaO2</th>\n",
              "      <th>FIO2</th>\n",
              "      <th>PaCO2</th>\n",
              "      <th>HCO3</th>\n",
              "      <th>PH</th>\n",
              "      <th>Sepsis</th>\n",
              "    </tr>\n",
              "  </thead>\n",
              "  <tbody>\n",
              "    <tr>\n",
              "      <th>0</th>\n",
              "      <td>21</td>\n",
              "      <td>2011-01-02</td>\n",
              "      <td>614.0</td>\n",
              "      <td>113.0</td>\n",
              "      <td>67.0</td>\n",
              "      <td>78.0</td>\n",
              "      <td>102.0</td>\n",
              "      <td>15.0</td>\n",
              "      <td>37.0</td>\n",
              "      <td>7.0</td>\n",
              "      <td>15.0</td>\n",
              "      <td>No</td>\n",
              "      <td>5.0</td>\n",
              "      <td>6.9</td>\n",
              "      <td>8.1</td>\n",
              "      <td>24.5</td>\n",
              "      <td>578.0</td>\n",
              "      <td>5.0</td>\n",
              "      <td>136.0</td>\n",
              "      <td>3.6</td>\n",
              "      <td>7.0</td>\n",
              "      <td>0.53</td>\n",
              "      <td>110.0</td>\n",
              "      <td>0.3</td>\n",
              "      <td>101.0</td>\n",
              "      <td>29.0</td>\n",
              "      <td>NaN</td>\n",
              "      <td>NaN</td>\n",
              "      <td>NaN</td>\n",
              "      <td>NaN</td>\n",
              "      <td>NaN</td>\n",
              "      <td>0</td>\n",
              "    </tr>\n",
              "    <tr>\n",
              "      <th>1</th>\n",
              "      <td>21</td>\n",
              "      <td>2011-01-03</td>\n",
              "      <td>600.0</td>\n",
              "      <td>137.0</td>\n",
              "      <td>67.0</td>\n",
              "      <td>85.0</td>\n",
              "      <td>105.0</td>\n",
              "      <td>16.0</td>\n",
              "      <td>37.3</td>\n",
              "      <td>7.0</td>\n",
              "      <td>15.0</td>\n",
              "      <td>No</td>\n",
              "      <td>59.0</td>\n",
              "      <td>7.8</td>\n",
              "      <td>7.9</td>\n",
              "      <td>25.1</td>\n",
              "      <td>615.0</td>\n",
              "      <td>59.0</td>\n",
              "      <td>137.0</td>\n",
              "      <td>3.7</td>\n",
              "      <td>8.0</td>\n",
              "      <td>0.55</td>\n",
              "      <td>130.0</td>\n",
              "      <td>0.3</td>\n",
              "      <td>104.0</td>\n",
              "      <td>27.0</td>\n",
              "      <td>NaN</td>\n",
              "      <td>NaN</td>\n",
              "      <td>NaN</td>\n",
              "      <td>NaN</td>\n",
              "      <td>NaN</td>\n",
              "      <td>0</td>\n",
              "    </tr>\n",
              "    <tr>\n",
              "      <th>2</th>\n",
              "      <td>21</td>\n",
              "      <td>2011-01-04</td>\n",
              "      <td>1000.0</td>\n",
              "      <td>124.0</td>\n",
              "      <td>56.0</td>\n",
              "      <td>73.0</td>\n",
              "      <td>104.0</td>\n",
              "      <td>18.0</td>\n",
              "      <td>37.5</td>\n",
              "      <td>7.0</td>\n",
              "      <td>15.0</td>\n",
              "      <td>No</td>\n",
              "      <td>208.0</td>\n",
              "      <td>8.9</td>\n",
              "      <td>8.7</td>\n",
              "      <td>26.6</td>\n",
              "      <td>607.0</td>\n",
              "      <td>208.0</td>\n",
              "      <td>135.0</td>\n",
              "      <td>3.4</td>\n",
              "      <td>8.0</td>\n",
              "      <td>0.53</td>\n",
              "      <td>172.0</td>\n",
              "      <td>0.3</td>\n",
              "      <td>103.0</td>\n",
              "      <td>24.0</td>\n",
              "      <td>NaN</td>\n",
              "      <td>NaN</td>\n",
              "      <td>NaN</td>\n",
              "      <td>NaN</td>\n",
              "      <td>NaN</td>\n",
              "      <td>0</td>\n",
              "    </tr>\n",
              "    <tr>\n",
              "      <th>3</th>\n",
              "      <td>21</td>\n",
              "      <td>2011-01-05</td>\n",
              "      <td>930.0</td>\n",
              "      <td>143.0</td>\n",
              "      <td>69.0</td>\n",
              "      <td>85.0</td>\n",
              "      <td>104.0</td>\n",
              "      <td>18.0</td>\n",
              "      <td>37.5</td>\n",
              "      <td>7.0</td>\n",
              "      <td>15.0</td>\n",
              "      <td>No</td>\n",
              "      <td>103.0</td>\n",
              "      <td>9.3</td>\n",
              "      <td>8.4</td>\n",
              "      <td>25.7</td>\n",
              "      <td>414.0</td>\n",
              "      <td>103.0</td>\n",
              "      <td>134.0</td>\n",
              "      <td>4.8</td>\n",
              "      <td>10.0</td>\n",
              "      <td>0.49</td>\n",
              "      <td>150.0</td>\n",
              "      <td>0.3</td>\n",
              "      <td>103.0</td>\n",
              "      <td>25.0</td>\n",
              "      <td>NaN</td>\n",
              "      <td>0.21</td>\n",
              "      <td>NaN</td>\n",
              "      <td>NaN</td>\n",
              "      <td>NaN</td>\n",
              "      <td>0</td>\n",
              "    </tr>\n",
              "    <tr>\n",
              "      <th>4</th>\n",
              "      <td>21</td>\n",
              "      <td>2011-01-06</td>\n",
              "      <td>1130.0</td>\n",
              "      <td>130.0</td>\n",
              "      <td>59.0</td>\n",
              "      <td>83.0</td>\n",
              "      <td>104.0</td>\n",
              "      <td>23.0</td>\n",
              "      <td>38.0</td>\n",
              "      <td>7.0</td>\n",
              "      <td>15.0</td>\n",
              "      <td>No</td>\n",
              "      <td>130.0</td>\n",
              "      <td>8.4</td>\n",
              "      <td>8.9</td>\n",
              "      <td>27.7</td>\n",
              "      <td>701.0</td>\n",
              "      <td>130.0</td>\n",
              "      <td>136.0</td>\n",
              "      <td>3.5</td>\n",
              "      <td>11.0</td>\n",
              "      <td>0.51</td>\n",
              "      <td>109.0</td>\n",
              "      <td>0.3</td>\n",
              "      <td>103.0</td>\n",
              "      <td>27.0</td>\n",
              "      <td>NaN</td>\n",
              "      <td>NaN</td>\n",
              "      <td>NaN</td>\n",
              "      <td>NaN</td>\n",
              "      <td>NaN</td>\n",
              "      <td>0</td>\n",
              "    </tr>\n",
              "    <tr>\n",
              "      <th>...</th>\n",
              "      <td>...</td>\n",
              "      <td>...</td>\n",
              "      <td>...</td>\n",
              "      <td>...</td>\n",
              "      <td>...</td>\n",
              "      <td>...</td>\n",
              "      <td>...</td>\n",
              "      <td>...</td>\n",
              "      <td>...</td>\n",
              "      <td>...</td>\n",
              "      <td>...</td>\n",
              "      <td>...</td>\n",
              "      <td>...</td>\n",
              "      <td>...</td>\n",
              "      <td>...</td>\n",
              "      <td>...</td>\n",
              "      <td>...</td>\n",
              "      <td>...</td>\n",
              "      <td>...</td>\n",
              "      <td>...</td>\n",
              "      <td>...</td>\n",
              "      <td>...</td>\n",
              "      <td>...</td>\n",
              "      <td>...</td>\n",
              "      <td>...</td>\n",
              "      <td>...</td>\n",
              "      <td>...</td>\n",
              "      <td>...</td>\n",
              "      <td>...</td>\n",
              "      <td>...</td>\n",
              "      <td>...</td>\n",
              "      <td>...</td>\n",
              "    </tr>\n",
              "    <tr>\n",
              "      <th>6536</th>\n",
              "      <td>PCR-004-00018</td>\n",
              "      <td>2013-05-27</td>\n",
              "      <td>600.0</td>\n",
              "      <td>140.0</td>\n",
              "      <td>70.0</td>\n",
              "      <td>102.0</td>\n",
              "      <td>116.0</td>\n",
              "      <td>26.0</td>\n",
              "      <td>38.5</td>\n",
              "      <td>NaN</td>\n",
              "      <td>NaN</td>\n",
              "      <td>No</td>\n",
              "      <td>211.0</td>\n",
              "      <td>17.6</td>\n",
              "      <td>9.2</td>\n",
              "      <td>26.8</td>\n",
              "      <td>454.0</td>\n",
              "      <td>211.0</td>\n",
              "      <td>138.0</td>\n",
              "      <td>4.5</td>\n",
              "      <td>12.0</td>\n",
              "      <td>0.88</td>\n",
              "      <td>139.0</td>\n",
              "      <td>NaN</td>\n",
              "      <td>103.0</td>\n",
              "      <td>25.0</td>\n",
              "      <td>NaN</td>\n",
              "      <td>NaN</td>\n",
              "      <td>NaN</td>\n",
              "      <td>NaN</td>\n",
              "      <td>NaN</td>\n",
              "      <td>0</td>\n",
              "    </tr>\n",
              "    <tr>\n",
              "      <th>6537</th>\n",
              "      <td>PCR-004-00018</td>\n",
              "      <td>2013-05-28</td>\n",
              "      <td>600.0</td>\n",
              "      <td>158.0</td>\n",
              "      <td>53.0</td>\n",
              "      <td>82.0</td>\n",
              "      <td>110.0</td>\n",
              "      <td>22.0</td>\n",
              "      <td>37.8</td>\n",
              "      <td>NaN</td>\n",
              "      <td>NaN</td>\n",
              "      <td>No</td>\n",
              "      <td>NaN</td>\n",
              "      <td>NaN</td>\n",
              "      <td>NaN</td>\n",
              "      <td>NaN</td>\n",
              "      <td>NaN</td>\n",
              "      <td>NaN</td>\n",
              "      <td>NaN</td>\n",
              "      <td>NaN</td>\n",
              "      <td>NaN</td>\n",
              "      <td>NaN</td>\n",
              "      <td>NaN</td>\n",
              "      <td>NaN</td>\n",
              "      <td>NaN</td>\n",
              "      <td>NaN</td>\n",
              "      <td>NaN</td>\n",
              "      <td>NaN</td>\n",
              "      <td>NaN</td>\n",
              "      <td>NaN</td>\n",
              "      <td>NaN</td>\n",
              "      <td>0</td>\n",
              "    </tr>\n",
              "    <tr>\n",
              "      <th>6538</th>\n",
              "      <td>PCR-004-00018</td>\n",
              "      <td>2013-05-29</td>\n",
              "      <td>600.0</td>\n",
              "      <td>133.0</td>\n",
              "      <td>51.0</td>\n",
              "      <td>72.0</td>\n",
              "      <td>120.0</td>\n",
              "      <td>22.0</td>\n",
              "      <td>38.5</td>\n",
              "      <td>NaN</td>\n",
              "      <td>NaN</td>\n",
              "      <td>No</td>\n",
              "      <td>NaN</td>\n",
              "      <td>NaN</td>\n",
              "      <td>NaN</td>\n",
              "      <td>NaN</td>\n",
              "      <td>NaN</td>\n",
              "      <td>NaN</td>\n",
              "      <td>NaN</td>\n",
              "      <td>NaN</td>\n",
              "      <td>NaN</td>\n",
              "      <td>NaN</td>\n",
              "      <td>NaN</td>\n",
              "      <td>NaN</td>\n",
              "      <td>NaN</td>\n",
              "      <td>NaN</td>\n",
              "      <td>NaN</td>\n",
              "      <td>NaN</td>\n",
              "      <td>NaN</td>\n",
              "      <td>NaN</td>\n",
              "      <td>NaN</td>\n",
              "      <td>0</td>\n",
              "    </tr>\n",
              "    <tr>\n",
              "      <th>6539</th>\n",
              "      <td>PCR-004-00018</td>\n",
              "      <td>2013-05-30</td>\n",
              "      <td>600.0</td>\n",
              "      <td>118.0</td>\n",
              "      <td>49.0</td>\n",
              "      <td>73.0</td>\n",
              "      <td>118.0</td>\n",
              "      <td>22.0</td>\n",
              "      <td>38.8</td>\n",
              "      <td>NaN</td>\n",
              "      <td>NaN</td>\n",
              "      <td>No</td>\n",
              "      <td>NaN</td>\n",
              "      <td>NaN</td>\n",
              "      <td>NaN</td>\n",
              "      <td>NaN</td>\n",
              "      <td>NaN</td>\n",
              "      <td>NaN</td>\n",
              "      <td>NaN</td>\n",
              "      <td>NaN</td>\n",
              "      <td>NaN</td>\n",
              "      <td>NaN</td>\n",
              "      <td>NaN</td>\n",
              "      <td>NaN</td>\n",
              "      <td>NaN</td>\n",
              "      <td>NaN</td>\n",
              "      <td>NaN</td>\n",
              "      <td>NaN</td>\n",
              "      <td>NaN</td>\n",
              "      <td>NaN</td>\n",
              "      <td>NaN</td>\n",
              "      <td>0</td>\n",
              "    </tr>\n",
              "    <tr>\n",
              "      <th>6540</th>\n",
              "      <td>PCR-004-00018</td>\n",
              "      <td>2013-05-31</td>\n",
              "      <td>600.0</td>\n",
              "      <td>132.0</td>\n",
              "      <td>52.0</td>\n",
              "      <td>78.0</td>\n",
              "      <td>118.0</td>\n",
              "      <td>22.0</td>\n",
              "      <td>38.5</td>\n",
              "      <td>NaN</td>\n",
              "      <td>NaN</td>\n",
              "      <td>No</td>\n",
              "      <td>NaN</td>\n",
              "      <td>NaN</td>\n",
              "      <td>NaN</td>\n",
              "      <td>NaN</td>\n",
              "      <td>NaN</td>\n",
              "      <td>NaN</td>\n",
              "      <td>NaN</td>\n",
              "      <td>NaN</td>\n",
              "      <td>NaN</td>\n",
              "      <td>NaN</td>\n",
              "      <td>NaN</td>\n",
              "      <td>NaN</td>\n",
              "      <td>NaN</td>\n",
              "      <td>NaN</td>\n",
              "      <td>NaN</td>\n",
              "      <td>NaN</td>\n",
              "      <td>NaN</td>\n",
              "      <td>NaN</td>\n",
              "      <td>NaN</td>\n",
              "      <td>0</td>\n",
              "    </tr>\n",
              "  </tbody>\n",
              "</table>\n",
              "<p>6541 rows × 32 columns</p>\n",
              "</div>"
            ],
            "text/plain": [
              "           PER_CODE Collection Date  Time Vitals  ...  HCO3   PH  Sepsis\n",
              "0                21      2011-01-02        614.0  ...   NaN  NaN       0\n",
              "1                21      2011-01-03        600.0  ...   NaN  NaN       0\n",
              "2                21      2011-01-04       1000.0  ...   NaN  NaN       0\n",
              "3                21      2011-01-05        930.0  ...   NaN  NaN       0\n",
              "4                21      2011-01-06       1130.0  ...   NaN  NaN       0\n",
              "...             ...             ...          ...  ...   ...  ...     ...\n",
              "6536  PCR-004-00018      2013-05-27        600.0  ...   NaN  NaN       0\n",
              "6537  PCR-004-00018      2013-05-28        600.0  ...   NaN  NaN       0\n",
              "6538  PCR-004-00018      2013-05-29        600.0  ...   NaN  NaN       0\n",
              "6539  PCR-004-00018      2013-05-30        600.0  ...   NaN  NaN       0\n",
              "6540  PCR-004-00018      2013-05-31        600.0  ...   NaN  NaN       0\n",
              "\n",
              "[6541 rows x 32 columns]"
            ]
          },
          "metadata": {
            "tags": []
          },
          "execution_count": 2
        }
      ]
    },
    {
      "cell_type": "markdown",
      "metadata": {
        "id": "Dib_zUIG_2D-",
        "colab_type": "text"
      },
      "source": [
        "## Data Preprocessing ##\n"
      ]
    },
    {
      "cell_type": "code",
      "metadata": {
        "id": "_Vh2nuez_teH",
        "colab_type": "code",
        "colab": {}
      },
      "source": [
        "def Drop_nan_row(df):\n",
        "  \n",
        "  drop_idx = []\n",
        "  for i in range(len(df)):\n",
        "    nan_count = 0\n",
        "    for x in df.loc[i]:\n",
        "      if str(x) == 'nan':\n",
        "        nan_count += 1\n",
        "    if nan_count >= 15:\n",
        "      drop_idx.append(i)\n",
        "    \n",
        "  modified_df = df.drop(df.index[drop_idx], errors = 'ignore')\n",
        "  modified_df = modified_df.reset_index(drop = True)\n",
        "\n",
        "  return modified_df"
      ],
      "execution_count": 0,
      "outputs": []
    },
    {
      "cell_type": "code",
      "metadata": {
        "id": "07tBdERtAkMg",
        "colab_type": "code",
        "colab": {}
      },
      "source": [
        "def Drop_unrelated_cols(df):\n",
        "  df = df.drop(columns = ['PER_CODE', 'Collection Date', 'Time Vitals', 'Time Labs', 'Time_CBC', 'Vent'], errors = 'ignore')\n",
        "  return df"
      ],
      "execution_count": 0,
      "outputs": []
    },
    {
      "cell_type": "code",
      "metadata": {
        "id": "7AV5WZumAoZs",
        "colab_type": "code",
        "colab": {}
      },
      "source": [
        "def Drop_nan_col(df):\n",
        "  \n",
        "  num_rows = len(df)\n",
        "  for x in df:\n",
        "    num_nan = 0\n",
        "    for i in df[x]:\n",
        "      if str(i) == 'nan':\n",
        "        num_nan += 1\n",
        "    \n",
        "    if (num_nan/num_rows) >= 0.2:\n",
        "      df = df.drop(columns = x, errors = 'ignore')\n",
        "  \n",
        "  return df"
      ],
      "execution_count": 0,
      "outputs": []
    },
    {
      "cell_type": "code",
      "metadata": {
        "id": "LScRw4gWAt7g",
        "colab_type": "code",
        "colab": {}
      },
      "source": [
        "def Complete_dataset(df):\n",
        "\n",
        "  # Change \"Yes\" and \"No\" under \"Vent\" to 1 and 0\n",
        "  df = df.replace('No', 0)\n",
        "  df = df.replace('Yes', 1)\n",
        "\n",
        "  # drop nan or replace them with other value\n",
        "  df = df.dropna()\n",
        "  df = df.reset_index(drop = True)\n",
        "\n",
        "  return df"
      ],
      "execution_count": 0,
      "outputs": []
    },
    {
      "cell_type": "code",
      "metadata": {
        "id": "h75yiEpAABp-",
        "colab_type": "code",
        "colab": {}
      },
      "source": [
        "def data_preprocess(df):\n",
        "\n",
        "  # drop rows that have too many nan\n",
        "  df = Drop_nan_row(df)\n",
        "  # drop times and patient ids\n",
        "  df = Drop_unrelated_cols(df)\n",
        "  # drop cols that have too many nan\n",
        "  df = Drop_nan_col(df)\n",
        "  # Replace all the other nans\n",
        "  df = Complete_dataset(df)\n",
        "\n",
        "  return df"
      ],
      "execution_count": 0,
      "outputs": []
    },
    {
      "cell_type": "code",
      "metadata": {
        "id": "ypWsMIYjAwwx",
        "colab_type": "code",
        "colab": {}
      },
      "source": [
        "bg = data_preprocess(bg)"
      ],
      "execution_count": 0,
      "outputs": []
    },
    {
      "cell_type": "markdown",
      "metadata": {
        "id": "roPBfZ_UAyIB",
        "colab_type": "text"
      },
      "source": [
        "## Finding Score ##"
      ]
    },
    {
      "cell_type": "code",
      "metadata": {
        "id": "DSbk_nS5A2xr",
        "colab_type": "code",
        "outputId": "35438158-0fe4-4195-cd82-6866c082a184",
        "colab": {
          "base_uri": "https://localhost:8080/",
          "height": 125
        }
      },
      "source": [
        "pip install -U imbalanced-learn"
      ],
      "execution_count": 9,
      "outputs": [
        {
          "output_type": "stream",
          "text": [
            "Requirement already up-to-date: imbalanced-learn in /usr/local/lib/python3.6/dist-packages (0.6.2)\n",
            "Requirement already satisfied, skipping upgrade: scikit-learn>=0.22 in /usr/local/lib/python3.6/dist-packages (from imbalanced-learn) (0.22.1)\n",
            "Requirement already satisfied, skipping upgrade: joblib>=0.11 in /usr/local/lib/python3.6/dist-packages (from imbalanced-learn) (0.14.1)\n",
            "Requirement already satisfied, skipping upgrade: numpy>=1.11 in /usr/local/lib/python3.6/dist-packages (from imbalanced-learn) (1.17.5)\n",
            "Requirement already satisfied, skipping upgrade: scipy>=0.17 in /usr/local/lib/python3.6/dist-packages (from imbalanced-learn) (1.4.1)\n"
          ],
          "name": "stdout"
        }
      ]
    },
    {
      "cell_type": "code",
      "metadata": {
        "id": "PS_iV-PcA6Ac",
        "colab_type": "code",
        "outputId": "470d0ac1-4e0e-454c-9e79-3890b61d876e",
        "colab": {
          "base_uri": "https://localhost:8080/",
          "height": 98
        }
      },
      "source": [
        "from sklearn.ensemble import RandomForestClassifier\n",
        "from sklearn.model_selection import train_test_split\n",
        "from sklearn.metrics import classification_report\n",
        "from sklearn.preprocessing import RobustScaler\n",
        "from sklearn.preprocessing import MinMaxScaler\n",
        "from sklearn.preprocessing import StandardScaler\n",
        "import imblearn"
      ],
      "execution_count": 10,
      "outputs": [
        {
          "output_type": "stream",
          "text": [
            "Using TensorFlow backend.\n"
          ],
          "name": "stderr"
        },
        {
          "output_type": "display_data",
          "data": {
            "text/html": [
              "<p style=\"color: red;\">\n",
              "The default version of TensorFlow in Colab will soon switch to TensorFlow 2.x.<br>\n",
              "We recommend you <a href=\"https://www.tensorflow.org/guide/migrate\" target=\"_blank\">upgrade</a> now \n",
              "or ensure your notebook will continue to use TensorFlow 1.x via the <code>%tensorflow_version 1.x</code> magic:\n",
              "<a href=\"https://colab.research.google.com/notebooks/tensorflow_version.ipynb\" target=\"_blank\">more info</a>.</p>\n"
            ],
            "text/plain": [
              "<IPython.core.display.HTML object>"
            ]
          },
          "metadata": {
            "tags": []
          }
        }
      ]
    },
    {
      "cell_type": "code",
      "metadata": {
        "id": "aHlMA0GJLGZJ",
        "colab_type": "code",
        "colab": {}
      },
      "source": [
        "# def Scores_calculation(train_x, train_y, test_x, test_y):\n",
        "#   precision_scores = [[],[]]\n",
        "#   recall_scores = [[],[]]\n",
        "#   f1_score_scores = [[],[]]\n",
        "\n",
        "#   model = RandomForestClassifier()\n",
        "#   for i in range(0,10):\n",
        "#     model.fit(train_x, train_y)\n",
        "#     predictions = model.predict(test_x)\n",
        "#     report = classification_report(test_y, predictions, output_dict = True)\n",
        "\n",
        "#     precision_scores[0].append(report['0']['precision'])\n",
        "#     recall_scores[0].append(report['0']['recall'])\n",
        "#     f1_score_scores[0].append(report['0']['f1-score'])\n",
        "    \n",
        "#     precision_scores[1].append(report['1']['precision'])\n",
        "#     recall_scores[1].append(report['1']['recall'])\n",
        "#     f1_score_scores[1].append(report['1']['f1-score'])\n",
        "\n",
        "#   precision_scores_avg_0 = sum(precision_scores[0]) / 10\n",
        "#   recall_scores_avg_0 = sum(recall_scores[0]) / 10\n",
        "#   f1_score_scores_avg_0 = sum(f1_score_scores[0]) / 10\n",
        "\n",
        "#   precision_scores_avg_1 = sum(precision_scores[1]) / 10\n",
        "#   recall_scores_avg_1 = sum(recall_scores[1]) / 10\n",
        "#   f1_score_scores_avg_1 = sum(f1_score_scores[1]) / 10\n",
        "\n",
        "#   # print('0 precision average', precision_scores_avg_0)\n",
        "#   # print('1 precision average', precision_scores_avg_1)\n",
        "#   # print('0 recall average', recall_scores_avg_0)\n",
        "#   # print('1 recall average', recall_scores_avg_1)\n",
        "#   # print('0 f1_socre average', f1_score_scores_avg_0)\n",
        "#   # print('1 f1_socre average', f1_score_scores_avg_1)\n",
        "#   # print('average f1_scores', (f1_score_scores_avg_0 + f1_score_scores_avg_1)/2)\n",
        "\n",
        "#   return (f1_score_scores_avg_0 + f1_score_scores_avg_1)/2"
      ],
      "execution_count": 0,
      "outputs": []
    },
    {
      "cell_type": "markdown",
      "metadata": {
        "id": "p4JBCoaARlth",
        "colab_type": "text"
      },
      "source": [
        "## Getting Best Model ##"
      ]
    },
    {
      "cell_type": "code",
      "metadata": {
        "id": "WOyjCFacIbk1",
        "colab_type": "code",
        "colab": {}
      },
      "source": [
        "# model = RandomForestClassifier()\n",
        "# x = bg[['RR', 'WBC', 'Glucose', 'Platelet']].values\n",
        "# y = bg['Sepsis'].values\n",
        "\n",
        "# train_x, test_x, train_y, test_y = train_test_split(x, y, test_size=0.2, random_state=0)"
      ],
      "execution_count": 0,
      "outputs": []
    },
    {
      "cell_type": "code",
      "metadata": {
        "id": "axiWwHG_HSkQ",
        "colab_type": "code",
        "colab": {}
      },
      "source": [
        "# ratio = 0.2\n",
        "\n",
        "# n_not_infected = len(train_y[train_y == 0])\n",
        "# n_new_ratio = int(n_not_infected * ratio)\n",
        "\n",
        "# for i in range(0, 9):\n",
        "#   ratio = round(ratio,1)\n",
        "#   print('ratio =', ratio, ':')\n",
        "\n",
        "#   if n_new_ratio > len(train_y[train_y == 1]):\n",
        "#         n_infected = n_new_ratio\n",
        "#   else:\n",
        "#         n_infected = len(train_y[train_y == 1])\n",
        "  \n",
        "#   sampling_numbers = {0: n_not_infected, 1: n_infected}\n",
        "\n",
        "#   smote = imblearn.over_sampling.SMOTE(sampling_strategy=sampling_numbers)\n",
        "#   train_x_smote, train_y_smote = smote.fit_resample(train_x, train_y)\n",
        "#   train_y_smote = pd.Series(train_y_smote)\n",
        "\n",
        "#   print(\"SMOTE:\")\n",
        "#   Scores_calculation(train_x_smote, train_y_smote, test_x, test_y)\n",
        "\n",
        "#   ros = imblearn.over_sampling.RandomOverSampler(sampling_strategy=sampling_numbers)\n",
        "#   train_x_ros, train_y_ros = ros.fit_resample(train_x, train_y)\n",
        "#   train_y_ros = pd.Series(train_y_ros)\n",
        "  \n",
        "#   print(\"ROS:\")\n",
        "#   Scores_calculation(train_x_ros, train_y_ros, test_x, test_y)\n",
        "\n",
        "#   ratios_and_multipliers = {.2: 5, .3: 3.3, .4: 2.5, .5: 2, .6: 1.6, .7: 1.4, .8: 1.2, .9: 1.1, 1.0: 1}\n",
        "\n",
        "#   n_minority = len(train_y[train_y == 1])\n",
        "#   n_majority = int(n_minority * ratios_and_multipliers[ratio])\n",
        "#   sampling_numbers = {0: n_majority, 1: n_minority}\n",
        "  \n",
        "#   rus = imblearn.under_sampling.RandomUnderSampler(sampling_strategy=sampling_numbers)\n",
        "#   train_x_rus, train_y_rus = rus.fit_resample(train_x, train_y)\n",
        "#   train_y_rus = pd.Series(train_y_rus)\n",
        "  \n",
        "#   print(\"RUS:\")\n",
        "#   Scores_calculation(train_x_rus, train_y_rus, test_x, test_y)\n",
        "#   print('\\n')\n",
        "\n",
        "#   ratio += 0.1"
      ],
      "execution_count": 0,
      "outputs": []
    },
    {
      "cell_type": "markdown",
      "metadata": {
        "id": "iQs5xOw7BGiY",
        "colab_type": "text"
      },
      "source": [
        "F1_score reaches its highest (average is about 0.599) when the imbalance mathod is RUS and the ratio is 0.4"
      ]
    },
    {
      "cell_type": "code",
      "metadata": {
        "id": "QHwSIFAhBcm_",
        "colab_type": "code",
        "colab": {}
      },
      "source": [
        "# import itertools\n",
        "\n",
        "# model = RandomForestClassifier()\n",
        "# # x = bg[['RR', 'WBC', 'Glucose', 'Platelet']].values\n",
        "# y = bg['Sepsis'].values\n",
        "\n",
        "# score = 0\n",
        "# comb = []\n",
        "\n",
        "# name_cols = list(bg.columns)\n",
        "# for subset in itertools.combinations(name_cols[0:-2], 5):\n",
        "#   x = bg[list(subset)].values\n",
        "#   train_x, test_x, train_y, test_y = train_test_split(x, y, test_size=0.2, random_state=0)\n",
        "\n",
        "#   n_minority = len(train_y[train_y == 1])\n",
        "#   n_majority = int(n_minority * 2.5)\n",
        "#   sampling_numbers = {0: n_majority, 1: n_minority}\n",
        "  \n",
        "#   rus = imblearn.under_sampling.RandomUnderSampler(sampling_strategy=sampling_numbers)\n",
        "#   train_x_rus, train_y_rus = rus.fit_resample(train_x, train_y)\n",
        "#   train_y_rus = pd.Series(train_y_rus)\n",
        "  \n",
        "#   temp = Scores_calculation(train_x_rus, train_y_rus, test_x, test_y)\n",
        "#   if (score < temp):\n",
        "#     score = temp\n",
        "#     comb = subset\n",
        "\n",
        "# print(score)\n",
        "# print(comb)   "
      ],
      "execution_count": 0,
      "outputs": []
    },
    {
      "cell_type": "code",
      "metadata": {
        "id": "BWdht1eIDezB",
        "colab_type": "code",
        "colab": {}
      },
      "source": [
        "# from pprint import pprint\n",
        "# from sklearn.feature_selection import chi2\n",
        "\n",
        "# columns_to_use = list(bg.columns[0:-2])\n",
        "# x = bg[columns_to_use].values\n",
        "# y = bg['Sepsis'].values\n",
        "# train_x, test_x, train_y, test_y = train_test_split(x, y, test_size=0.2, random_state=0)\n",
        "\n",
        "# chi2_vals, pvals = chi2(train_x, train_y)\n",
        "# cols_to_pvals = zip(pvals, columns_to_use)\n",
        "# cols_sorted = sorted(cols_to_pvals)\n",
        "\n",
        "# pprint(cols_sorted)"
      ],
      "execution_count": 0,
      "outputs": []
    },
    {
      "cell_type": "markdown",
      "metadata": {
        "id": "h3qPm9yuRsdS",
        "colab_type": "text"
      },
      "source": [
        "## Getting Best Features ##"
      ]
    },
    {
      "cell_type": "markdown",
      "metadata": {
        "id": "JkCz1NvJlgOd",
        "colab_type": "text"
      },
      "source": [
        "### Progressive Selection ###"
      ]
    },
    {
      "cell_type": "code",
      "metadata": {
        "colab_type": "code",
        "id": "viMlbAZ2QvL8",
        "colab": {}
      },
      "source": [
        "# model = RandomForestClassifier()\n",
        "# x = bg[['Hct', 'Platelet', 'WBC', 'Glucose']].values\n",
        "# y = bg['Sepsis'].values\n",
        "# train_x, test_x, train_y, test_y = train_test_split(x, y, test_size=0.2, random_state=0)\n",
        "\n",
        "# scaler = RobustScaler()\n",
        "# train_x = scaler.fit_transform(train_x)\n",
        "# test_x = scaler.transform(test_x)\n",
        "\n",
        "# n_minority = len(train_y[train_y == 1])\n",
        "# n_majority = int(n_minority * 2.5)\n",
        "# sampling_numbers = {0: n_majority, 1: n_minority}\n",
        "\n",
        "# rus = imblearn.under_sampling.RandomUnderSampler(sampling_strategy=sampling_numbers)\n",
        "# train_x_rus, train_y_rus = rus.fit_resample(train_x, train_y)\n",
        "# train_y_rus = pd.Series(train_y_rus)\n",
        "  \n",
        "# score = Scores_calculation(train_x_rus, train_y_rus, test_x, test_y)\n",
        "# print(score)"
      ],
      "execution_count": 0,
      "outputs": []
    },
    {
      "cell_type": "code",
      "metadata": {
        "id": "R9qrPzKWdIto",
        "colab_type": "code",
        "colab": {}
      },
      "source": [
        "# model = RandomForestClassifier()\n",
        "# temp = list(bg.columns)\n",
        "# temp.remove('Hct')\n",
        "# temp.remove('Platelet')\n",
        "# temp.remove('WBC')\n",
        "# temp.remove('Sepsis')\n",
        "# temp.remove('Temp')\n",
        "# temp.remove('RR')\n",
        "# temp.remove('HR')\n",
        "# col_use = ['Hct', 'Platelet', 'WBC', 'Temp', 'RR', 'HR']\n",
        "\n",
        "# for f in temp:\n",
        "#   g = [f]\n",
        "#   g = col_use + g\n",
        "\n",
        "#   x = bg[g].values\n",
        "#   y = bg['Sepsis'].values\n",
        "#   train_x, test_x, train_y, test_y = train_test_split(x, y, test_size=0.2, random_state=0)\n",
        "\n",
        "#   scaler = RobustScaler()\n",
        "#   train_x = scaler.fit_transform(train_x)\n",
        "#   test_x = scaler.transform(test_x)\n",
        "\n",
        "#   n_minority = len(train_y[train_y == 1])\n",
        "#   n_majority = int(n_minority * 2.5)\n",
        "#   sampling_numbers = {0: n_majority, 1: n_minority}\n",
        "\n",
        "#   rus = imblearn.under_sampling.RandomUnderSampler(sampling_strategy=sampling_numbers)\n",
        "#   train_x_rus, train_y_rus = rus.fit_resample(train_x, train_y)\n",
        "#   train_y_rus = pd.Series(train_y_rus)\n",
        "  \n",
        "#   score = Scores_calculation(train_x_rus, train_y_rus, test_x, test_y)\n",
        "#   print(g,':',score)\n",
        "  "
      ],
      "execution_count": 0,
      "outputs": []
    },
    {
      "cell_type": "markdown",
      "metadata": {
        "id": "xuJxAe5aldKd",
        "colab_type": "text"
      },
      "source": [
        "Best feature combination: ['Hct', 'Platelet', 'WBC', 'Temp', 'RR', 'HR']"
      ]
    },
    {
      "cell_type": "markdown",
      "metadata": {
        "id": "dUXgJR7ilt0P",
        "colab_type": "text"
      },
      "source": [
        "### Regressive Selection ###"
      ]
    },
    {
      "cell_type": "code",
      "metadata": {
        "id": "nsjxABy-lx8A",
        "colab_type": "code",
        "colab": {}
      },
      "source": [
        "# from sklearn.feature_selection import RFE\n",
        "\n",
        "# col = list(bg.columns)\n",
        "# col.remove('Sepsis')\n",
        "# x = bg[col].values\n",
        "# y = bg['Sepsis'].values\n",
        "# train_x, test_x, train_y, test_y = train_test_split(x, y, test_size=0.2, random_state=0)\n",
        "\n",
        "# scaler = RobustScaler()\n",
        "# train_x = scaler.fit_transform(train_x)\n",
        "# test_x = scaler.transform(test_x)\n",
        "\n",
        "# n_minority = len(train_y[train_y == 1])\n",
        "# n_majority = int(n_minority * 2.5)\n",
        "# sampling_numbers = {0: n_majority, 1: n_minority}\n",
        "\n",
        "# rus = imblearn.under_sampling.RandomUnderSampler(sampling_strategy=sampling_numbers)\n",
        "# train_x_rus, train_y_rus = rus.fit_resample(train_x, train_y)\n",
        "# train_y_rus = pd.Series(train_y_rus)\n",
        "\n",
        "# estimator = RandomForestClassifier()\n",
        "# selector = RFE(estimator, 3, step=1)\n",
        "# selector = selector.fit(train_x_rus, train_y_rus)\n",
        "\n",
        "# new_train_x = train_x[:, selector.support_]\n",
        "# new_test_x = test_x[:, selector.support_]\n",
        "\n",
        "# model = RandomForestClassifier()\n",
        "\n",
        "# f1_score_scores = [[],[]]\n",
        "\n",
        "# model = RandomForestClassifier()\n",
        "# for i in range(0,10):\n",
        "#   model.fit(new_train_x, train_y)\n",
        "#   predictions = model.predict(new_test_x)\n",
        "#   report = classification_report(test_y, predictions, output_dict = True)\n",
        "\n",
        "#   f1_score_scores[0].append(report['0']['f1-score'])\n",
        "#   f1_score_scores[1].append(report['1']['f1-score'])\n",
        "#   f1_score_scores_avg_0 = sum(f1_score_scores[0]) / 10\n",
        "#   f1_score_scores_avg_1 = sum(f1_score_scores[1]) / 10\n",
        "\n",
        "# print((f1_score_scores_avg_0 + f1_score_scores_avg_1)/2)"
      ],
      "execution_count": 0,
      "outputs": []
    },
    {
      "cell_type": "markdown",
      "metadata": {
        "id": "8vYmAFDP5wzC",
        "colab_type": "text"
      },
      "source": [
        "3 features: f1_score = 0.5483979297526201 \\\\\n",
        "4 features: f1_score = 0.5807557454179925 \\\\\n",
        "5 features: f1_score = 0.5788802053854059 \\\\\n",
        "6 features: f1_score = 0.5769307206585933 \\\\\n",
        "7 features: f1_score = 0.5722500953954065"
      ]
    },
    {
      "cell_type": "markdown",
      "metadata": {
        "id": "SSgkYfshB9IU",
        "colab_type": "text"
      },
      "source": [
        "## Best features + Best Model ##"
      ]
    },
    {
      "cell_type": "code",
      "metadata": {
        "id": "4p8yFCVyCDFV",
        "colab_type": "code",
        "colab": {
          "base_uri": "https://localhost:8080/",
          "height": 70
        },
        "outputId": "367846fd-fbda-47ba-ecca-683d0d4cd9ef"
      },
      "source": [
        "x = bg[['Hct', 'Platelet', 'WBC', 'Temp', 'RR', 'HR']].values\n",
        "y = bg['Sepsis'].values\n",
        "\n",
        "train_x, test_x, train_y, test_y = train_test_split(x, y, test_size=0.2, random_state=0)\n",
        "\n",
        "scaler = RobustScaler()\n",
        "train_x = scaler.fit_transform(train_x)\n",
        "test_x = scaler.transform(test_x)\n",
        "\n",
        "n_minority = len(train_y[train_y == 1])\n",
        "n_majority = int(n_minority * 2.5)\n",
        "sampling_numbers = {0: n_majority, 1: n_minority}\n",
        "\n",
        "rus = imblearn.under_sampling.RandomUnderSampler(sampling_strategy=sampling_numbers)\n",
        "train_x_rus, train_y_rus = rus.fit_resample(train_x, train_y)\n",
        "train_y_rus = pd.Series(train_y_rus)\n",
        "\n",
        "f1_score_scores = [[],[]]\n",
        "sensitivity = []\n",
        "specificity = []\n",
        "\n",
        "model = RandomForestClassifier()\n",
        "\n",
        "for i in range(0,10):\n",
        "  model.fit(train_x_rus, train_y_rus)\n",
        "  predictions = model.predict(test_x)\n",
        "  report = classification_report(test_y, predictions, output_dict = True)\n",
        "  ss = imblearn.metrics.sensitivity_specificity_support(test_y, predictions, average='macro')\n",
        "  \n",
        "  sensitivity.append(ss[0])\n",
        "  specificity.append(ss[1])\n",
        "\n",
        "  f1_score_scores[0].append(report['0']['f1-score'])\n",
        "  f1_score_scores[1].append(report['1']['f1-score'])\n",
        "\n",
        "f1_score_scores_avg_0 = sum(f1_score_scores[0]) / 10\n",
        "f1_score_scores_avg_1 = sum(f1_score_scores[1]) / 10\n",
        "sensitivity_avg = sum(sensitivity) / 10\n",
        "specificity_avg = sum(specificity) / 10\n",
        "\n",
        "print(\"f1 score = \", (f1_score_scores_avg_0 + f1_score_scores_avg_1)/2)\n",
        "print(\"sensitivity = \", sensitivity_avg)\n",
        "print(\"specificity = \", specificity_avg)"
      ],
      "execution_count": 18,
      "outputs": [
        {
          "output_type": "stream",
          "text": [
            "f1 score =  0.6484801498567692\n",
            "sensitivity =  0.6329933966713833\n",
            "specificity =  0.6329933966713833\n"
          ],
          "name": "stdout"
        }
      ]
    },
    {
      "cell_type": "code",
      "metadata": {
        "id": "Gr6qtsBvRk1u",
        "colab_type": "code",
        "colab": {
          "base_uri": "https://localhost:8080/",
          "height": 312
        },
        "outputId": "c5d6b5ee-666b-4d6b-d669-49cbde22c811"
      },
      "source": [
        "from sklearn.metrics import roc_curve, roc_auc_score\n",
        "\n",
        "y_score = model.predict_proba(test_x)[:,1]\n",
        "false_positive_rate, true_positive_rate, threshold = roc_curve(test_y, y_score)\n",
        "print('roc_auc_score = ', roc_auc_score(test_y, y_score))\n",
        "\n",
        "plt.title('ROC Curve')\n",
        "plt.plot(false_positive_rate, true_positive_rate)\n",
        "plt.plot([0, 1], ls=\"--\")\n",
        "plt.plot([0, 0], [1, 0] , c=\".7\"), plt.plot([1, 1] , c=\".7\")\n",
        "plt.ylabel('True Positive Rate')\n",
        "plt.xlabel('False Positive Rate')\n",
        "plt.show()"
      ],
      "execution_count": 22,
      "outputs": [
        {
          "output_type": "stream",
          "text": [
            "roc_auc_score =  0.7304393234957213\n"
          ],
          "name": "stdout"
        },
        {
          "output_type": "display_data",
          "data": {
            "image/png": "[encoded data removed]",
            "text/plain": [
              "<Figure size 432x288 with 1 Axes>"
            ]
          },
          "metadata": {
            "tags": []
          }
        }
      ]
    },
    {
      "cell_type": "code",
      "metadata": {
        "id": "olvxDwoDskQe",
        "colab_type": "code",
        "colab": {}
      },
      "source": [
        ""
      ],
      "execution_count": 0,
      "outputs": []
    }
  ]
}